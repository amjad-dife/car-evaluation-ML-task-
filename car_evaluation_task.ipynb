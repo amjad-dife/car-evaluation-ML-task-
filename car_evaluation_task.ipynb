{
 "cells": [
  {
   "cell_type": "code",
   "execution_count": 1,
   "metadata": {
    "id": "3r1TC04gHI5l"
   },
   "outputs": [],
   "source": [
    "import numpy as np\n",
    "import pandas as pd\n",
    "from sklearn.datasets import load_wine\n",
    "from sklearn.model_selection import train_test_split\n",
    "from sklearn.metrics import classification_report, ConfusionMatrixDisplay, accuracy_score, confusion_matrix\n",
    "from sklearn.naive_bayes import GaussianNB\n",
    "import matplotlib.pyplot as plt\n",
    "%matplotlib inline\n",
    "from sklearn import metrics\n",
    "from sklearn.feature_selection import SelectKBest, chi2\n",
    "from sklearn.metrics import classification_report, ConfusionMatrixDisplay, accuracy_score, confusion_matrix\n",
    "from sklearn.datasets import make_classification, make_circles\n",
    "from sklearn.preprocessing import MultiLabelBinarizer\n",
    "import seaborn as sns\n",
    "from sklearn.preprocessing import LabelEncoder\n",
    "import warnings\n",
    "import timeit\n",
    "from sklearn.neighbors import KNeighborsClassifier\n",
    "from sklearn.preprocessing import StandardScaler\n",
    "warnings.filterwarnings(action='ignore')\n"
   ]
  },
  {
   "cell_type": "code",
   "execution_count": 2,
   "metadata": {
    "id": "13ujsNYN685-"
   },
   "outputs": [],
   "source": [
    "def getConfusionMatrix(model,X_test,y_test,title):\n",
    "    \"\"\"plot the confusion matrix of a model\n",
    "    Input: model, X_test, y_test\n",
    "    Output: print the confusion matrix\n",
    "    \"\"\"\n",
    "    predictions = model.predict(X_test)\n",
    "    cm = confusion_matrix(y_test, predictions, labels=model.classes_)\n",
    "    print(cm)\n",
    "    disp = ConfusionMatrixDisplay(confusion_matrix=cm,display_labels=model.classes_)\n",
    "    disp.plot()\n",
    "    plt.title(title)\n",
    "    plt.show()"
   ]
  },
  {
   "cell_type": "code",
   "execution_count": 3,
   "metadata": {
    "id": "2wgoCO42-0Q4"
   },
   "outputs": [],
   "source": [
    "def plotData(features, labels, cls, class_names,axis_labels):\n",
    "    \"\"\"plot the data for OVA Model\n",
    "    Input: features, labels, cls, class_names\n",
    "    Output: plot the data of the model\n",
    "    \"\"\"\n",
    "    colors = ['r', 'b', 'g','']\n",
    "    markers = ['o', '*', '+']\n",
    "    for class_index in range(len(cls)):\n",
    "        plt.xlabel(axis_labels[0])\n",
    "        plt.ylabel(axis_labels[1])  \n",
    "        plt.scatter(features[labels == cls[class_index],0], \n",
    "                    features[labels == cls[class_index],1], \n",
    "                    c=colors[class_index], marker=markers[class_index], \n",
    "                    label=class_names[cls[class_index]])\n",
    "    Title = \"Dataset with {n} classes\".format(n=int(len(cls)))\n",
    "    plt.title(Title)\n",
    "    plt.legend()"
   ]
  },
  {
   "cell_type": "code",
   "execution_count": 4,
   "metadata": {
    "id": "nKs9Zs4i-3BH"
   },
   "outputs": [],
   "source": [
    "def plotRegions(model, X):\n",
    "    \"\"\"plot the regions of the training model  \n",
    "    Input: model, X\n",
    "    Output: plot the regions\n",
    "    \"\"\"\n",
    "    x_min, x_max = X[:, 0].min() - 1, X[:, 0].max() + 1\n",
    "    y_min, y_max = X[:, 1].min() - 1, X[:, 1].max() + 1\n",
    "    XX, YY = np.meshgrid(np.arange(x_min, x_max, 0.01), np.arange(y_min, y_max, 0.01))\n",
    "\n",
    "    z = model.predict(np.c_[XX.ravel(), YY.ravel()])\n",
    "    ZZ = z.reshape(XX.shape)\n",
    "    plt.contourf(XX, YY, ZZ, alpha=0.2)"
   ]
  },
  {
   "cell_type": "code",
   "execution_count": 5,
   "metadata": {
    "id": "yGgco1YK-_t8"
   },
   "outputs": [],
   "source": [
    "def plotDataAndBoundries(X,y,Cls,classNames,model,axis_labels):\n",
    "    \"\"\"plot the data and boundries \n",
    "    Input: X,y,Cls,classNames,model\n",
    "    Output: plot the data and boundries\n",
    "    \"\"\"\n",
    "    plotData(X, y,Cls,classNames,axis_labels)\n",
    "    plotRegions(model,X)\n",
    "    plt.legend(loc=\"upper left\")\n",
    "    plt.show()"
   ]
  },
  {
   "cell_type": "markdown",
   "metadata": {
    "id": "QKKuAm_IJ8BY"
   },
   "source": [
    "# **load data**"
   ]
  },
  {
   "cell_type": "code",
   "execution_count": 6,
   "metadata": {
    "colab": {
     "base_uri": "https://localhost:8080/",
     "height": 363
    },
    "id": "SR8SwhBeJ7UU",
    "outputId": "da4ec7c1-dce0-4817-8cdd-49bf434bff1c"
   },
   "outputs": [
    {
     "data": {
      "text/html": [
       "<div>\n",
       "<style scoped>\n",
       "    .dataframe tbody tr th:only-of-type {\n",
       "        vertical-align: middle;\n",
       "    }\n",
       "\n",
       "    .dataframe tbody tr th {\n",
       "        vertical-align: top;\n",
       "    }\n",
       "\n",
       "    .dataframe thead th {\n",
       "        text-align: right;\n",
       "    }\n",
       "</style>\n",
       "<table border=\"1\" class=\"dataframe\">\n",
       "  <thead>\n",
       "    <tr style=\"text-align: right;\">\n",
       "      <th></th>\n",
       "      <th>buying</th>\n",
       "      <th>maint</th>\n",
       "      <th>doors</th>\n",
       "      <th>persons</th>\n",
       "      <th>lug_boot</th>\n",
       "      <th>safety</th>\n",
       "      <th>class</th>\n",
       "    </tr>\n",
       "  </thead>\n",
       "  <tbody>\n",
       "    <tr>\n",
       "      <th>0</th>\n",
       "      <td>vhigh</td>\n",
       "      <td>vhigh</td>\n",
       "      <td>2</td>\n",
       "      <td>2</td>\n",
       "      <td>small</td>\n",
       "      <td>low</td>\n",
       "      <td>unacc</td>\n",
       "    </tr>\n",
       "    <tr>\n",
       "      <th>1</th>\n",
       "      <td>vhigh</td>\n",
       "      <td>vhigh</td>\n",
       "      <td>2</td>\n",
       "      <td>2</td>\n",
       "      <td>small</td>\n",
       "      <td>med</td>\n",
       "      <td>unacc</td>\n",
       "    </tr>\n",
       "    <tr>\n",
       "      <th>2</th>\n",
       "      <td>vhigh</td>\n",
       "      <td>vhigh</td>\n",
       "      <td>2</td>\n",
       "      <td>2</td>\n",
       "      <td>small</td>\n",
       "      <td>high</td>\n",
       "      <td>unacc</td>\n",
       "    </tr>\n",
       "    <tr>\n",
       "      <th>3</th>\n",
       "      <td>vhigh</td>\n",
       "      <td>vhigh</td>\n",
       "      <td>2</td>\n",
       "      <td>2</td>\n",
       "      <td>med</td>\n",
       "      <td>low</td>\n",
       "      <td>unacc</td>\n",
       "    </tr>\n",
       "    <tr>\n",
       "      <th>4</th>\n",
       "      <td>vhigh</td>\n",
       "      <td>vhigh</td>\n",
       "      <td>2</td>\n",
       "      <td>2</td>\n",
       "      <td>med</td>\n",
       "      <td>med</td>\n",
       "      <td>unacc</td>\n",
       "    </tr>\n",
       "    <tr>\n",
       "      <th>5</th>\n",
       "      <td>vhigh</td>\n",
       "      <td>vhigh</td>\n",
       "      <td>2</td>\n",
       "      <td>2</td>\n",
       "      <td>med</td>\n",
       "      <td>high</td>\n",
       "      <td>unacc</td>\n",
       "    </tr>\n",
       "    <tr>\n",
       "      <th>6</th>\n",
       "      <td>vhigh</td>\n",
       "      <td>vhigh</td>\n",
       "      <td>2</td>\n",
       "      <td>2</td>\n",
       "      <td>big</td>\n",
       "      <td>low</td>\n",
       "      <td>unacc</td>\n",
       "    </tr>\n",
       "    <tr>\n",
       "      <th>7</th>\n",
       "      <td>vhigh</td>\n",
       "      <td>vhigh</td>\n",
       "      <td>2</td>\n",
       "      <td>2</td>\n",
       "      <td>big</td>\n",
       "      <td>med</td>\n",
       "      <td>unacc</td>\n",
       "    </tr>\n",
       "    <tr>\n",
       "      <th>8</th>\n",
       "      <td>vhigh</td>\n",
       "      <td>vhigh</td>\n",
       "      <td>2</td>\n",
       "      <td>2</td>\n",
       "      <td>big</td>\n",
       "      <td>high</td>\n",
       "      <td>unacc</td>\n",
       "    </tr>\n",
       "    <tr>\n",
       "      <th>9</th>\n",
       "      <td>vhigh</td>\n",
       "      <td>vhigh</td>\n",
       "      <td>2</td>\n",
       "      <td>4</td>\n",
       "      <td>small</td>\n",
       "      <td>low</td>\n",
       "      <td>unacc</td>\n",
       "    </tr>\n",
       "    <tr>\n",
       "      <th>10</th>\n",
       "      <td>vhigh</td>\n",
       "      <td>vhigh</td>\n",
       "      <td>2</td>\n",
       "      <td>4</td>\n",
       "      <td>small</td>\n",
       "      <td>med</td>\n",
       "      <td>unacc</td>\n",
       "    </tr>\n",
       "    <tr>\n",
       "      <th>11</th>\n",
       "      <td>vhigh</td>\n",
       "      <td>vhigh</td>\n",
       "      <td>2</td>\n",
       "      <td>4</td>\n",
       "      <td>small</td>\n",
       "      <td>high</td>\n",
       "      <td>unacc</td>\n",
       "    </tr>\n",
       "    <tr>\n",
       "      <th>12</th>\n",
       "      <td>vhigh</td>\n",
       "      <td>vhigh</td>\n",
       "      <td>2</td>\n",
       "      <td>4</td>\n",
       "      <td>med</td>\n",
       "      <td>low</td>\n",
       "      <td>unacc</td>\n",
       "    </tr>\n",
       "    <tr>\n",
       "      <th>13</th>\n",
       "      <td>vhigh</td>\n",
       "      <td>vhigh</td>\n",
       "      <td>2</td>\n",
       "      <td>4</td>\n",
       "      <td>med</td>\n",
       "      <td>med</td>\n",
       "      <td>unacc</td>\n",
       "    </tr>\n",
       "    <tr>\n",
       "      <th>14</th>\n",
       "      <td>vhigh</td>\n",
       "      <td>vhigh</td>\n",
       "      <td>2</td>\n",
       "      <td>4</td>\n",
       "      <td>med</td>\n",
       "      <td>high</td>\n",
       "      <td>unacc</td>\n",
       "    </tr>\n",
       "    <tr>\n",
       "      <th>15</th>\n",
       "      <td>vhigh</td>\n",
       "      <td>vhigh</td>\n",
       "      <td>2</td>\n",
       "      <td>4</td>\n",
       "      <td>big</td>\n",
       "      <td>low</td>\n",
       "      <td>unacc</td>\n",
       "    </tr>\n",
       "    <tr>\n",
       "      <th>16</th>\n",
       "      <td>vhigh</td>\n",
       "      <td>vhigh</td>\n",
       "      <td>2</td>\n",
       "      <td>4</td>\n",
       "      <td>big</td>\n",
       "      <td>med</td>\n",
       "      <td>unacc</td>\n",
       "    </tr>\n",
       "    <tr>\n",
       "      <th>17</th>\n",
       "      <td>vhigh</td>\n",
       "      <td>vhigh</td>\n",
       "      <td>2</td>\n",
       "      <td>4</td>\n",
       "      <td>big</td>\n",
       "      <td>high</td>\n",
       "      <td>unacc</td>\n",
       "    </tr>\n",
       "    <tr>\n",
       "      <th>18</th>\n",
       "      <td>vhigh</td>\n",
       "      <td>vhigh</td>\n",
       "      <td>2</td>\n",
       "      <td>more</td>\n",
       "      <td>small</td>\n",
       "      <td>low</td>\n",
       "      <td>unacc</td>\n",
       "    </tr>\n",
       "    <tr>\n",
       "      <th>19</th>\n",
       "      <td>vhigh</td>\n",
       "      <td>vhigh</td>\n",
       "      <td>2</td>\n",
       "      <td>more</td>\n",
       "      <td>small</td>\n",
       "      <td>med</td>\n",
       "      <td>unacc</td>\n",
       "    </tr>\n",
       "  </tbody>\n",
       "</table>\n",
       "</div>"
      ],
      "text/plain": [
       "   buying  maint doors persons lug_boot safety  class\n",
       "0   vhigh  vhigh     2       2    small    low  unacc\n",
       "1   vhigh  vhigh     2       2    small    med  unacc\n",
       "2   vhigh  vhigh     2       2    small   high  unacc\n",
       "3   vhigh  vhigh     2       2      med    low  unacc\n",
       "4   vhigh  vhigh     2       2      med    med  unacc\n",
       "5   vhigh  vhigh     2       2      med   high  unacc\n",
       "6   vhigh  vhigh     2       2      big    low  unacc\n",
       "7   vhigh  vhigh     2       2      big    med  unacc\n",
       "8   vhigh  vhigh     2       2      big   high  unacc\n",
       "9   vhigh  vhigh     2       4    small    low  unacc\n",
       "10  vhigh  vhigh     2       4    small    med  unacc\n",
       "11  vhigh  vhigh     2       4    small   high  unacc\n",
       "12  vhigh  vhigh     2       4      med    low  unacc\n",
       "13  vhigh  vhigh     2       4      med    med  unacc\n",
       "14  vhigh  vhigh     2       4      med   high  unacc\n",
       "15  vhigh  vhigh     2       4      big    low  unacc\n",
       "16  vhigh  vhigh     2       4      big    med  unacc\n",
       "17  vhigh  vhigh     2       4      big   high  unacc\n",
       "18  vhigh  vhigh     2    more    small    low  unacc\n",
       "19  vhigh  vhigh     2    more    small    med  unacc"
      ]
     },
     "execution_count": 6,
     "metadata": {},
     "output_type": "execute_result"
    }
   ],
   "source": [
    "dataset2 =pd.read_csv('car_evaluation.csv',header=None)\n",
    "col_names = ['buying', 'maint', 'doors', 'persons', 'lug_boot', 'safety', 'class']\n",
    "dataset2.columns = col_names\n",
    "dataset2.head(20)"
   ]
  },
  {
   "cell_type": "code",
   "execution_count": 7,
   "metadata": {
    "colab": {
     "base_uri": "https://localhost:8080/",
     "height": 175
    },
    "id": "ltuhyRduK4aK",
    "outputId": "4d74bf1e-3db3-4762-eddd-1b324fcd0c02"
   },
   "outputs": [
    {
     "data": {
      "text/html": [
       "<div>\n",
       "<style scoped>\n",
       "    .dataframe tbody tr th:only-of-type {\n",
       "        vertical-align: middle;\n",
       "    }\n",
       "\n",
       "    .dataframe tbody tr th {\n",
       "        vertical-align: top;\n",
       "    }\n",
       "\n",
       "    .dataframe thead th {\n",
       "        text-align: right;\n",
       "    }\n",
       "</style>\n",
       "<table border=\"1\" class=\"dataframe\">\n",
       "  <thead>\n",
       "    <tr style=\"text-align: right;\">\n",
       "      <th></th>\n",
       "      <th>buying</th>\n",
       "      <th>maint</th>\n",
       "      <th>doors</th>\n",
       "      <th>persons</th>\n",
       "      <th>lug_boot</th>\n",
       "      <th>safety</th>\n",
       "      <th>class</th>\n",
       "    </tr>\n",
       "  </thead>\n",
       "  <tbody>\n",
       "    <tr>\n",
       "      <th>count</th>\n",
       "      <td>1728</td>\n",
       "      <td>1728</td>\n",
       "      <td>1728</td>\n",
       "      <td>1728</td>\n",
       "      <td>1728</td>\n",
       "      <td>1728</td>\n",
       "      <td>1728</td>\n",
       "    </tr>\n",
       "    <tr>\n",
       "      <th>unique</th>\n",
       "      <td>4</td>\n",
       "      <td>4</td>\n",
       "      <td>4</td>\n",
       "      <td>3</td>\n",
       "      <td>3</td>\n",
       "      <td>3</td>\n",
       "      <td>4</td>\n",
       "    </tr>\n",
       "    <tr>\n",
       "      <th>top</th>\n",
       "      <td>vhigh</td>\n",
       "      <td>vhigh</td>\n",
       "      <td>2</td>\n",
       "      <td>2</td>\n",
       "      <td>small</td>\n",
       "      <td>low</td>\n",
       "      <td>unacc</td>\n",
       "    </tr>\n",
       "    <tr>\n",
       "      <th>freq</th>\n",
       "      <td>432</td>\n",
       "      <td>432</td>\n",
       "      <td>432</td>\n",
       "      <td>576</td>\n",
       "      <td>576</td>\n",
       "      <td>576</td>\n",
       "      <td>1210</td>\n",
       "    </tr>\n",
       "  </tbody>\n",
       "</table>\n",
       "</div>"
      ],
      "text/plain": [
       "       buying  maint doors persons lug_boot safety  class\n",
       "count    1728   1728  1728    1728     1728   1728   1728\n",
       "unique      4      4     4       3        3      3      4\n",
       "top     vhigh  vhigh     2       2    small    low  unacc\n",
       "freq      432    432   432     576      576    576   1210"
      ]
     },
     "execution_count": 7,
     "metadata": {},
     "output_type": "execute_result"
    }
   ],
   "source": [
    "dataset2.describe()"
   ]
  },
  {
   "cell_type": "markdown",
   "metadata": {
    "id": "wxU9KAyZK6kA"
   },
   "source": [
    "# **get  features and label**"
   ]
  },
  {
   "cell_type": "code",
   "execution_count": 8,
   "metadata": {
    "id": "ojvS3IKNLGwR"
   },
   "outputs": [],
   "source": [
    "X = dataset2.drop(['class'], axis=1)\n",
    "y = dataset2['class']"
   ]
  },
  {
   "cell_type": "code",
   "execution_count": 9,
   "metadata": {
    "colab": {
     "base_uri": "https://localhost:8080/",
     "height": 424
    },
    "id": "5yCed8f_LI7Q",
    "outputId": "0e78685d-bfa5-49cf-98c7-0326e8901916"
   },
   "outputs": [
    {
     "data": {
      "text/html": [
       "<div>\n",
       "<style scoped>\n",
       "    .dataframe tbody tr th:only-of-type {\n",
       "        vertical-align: middle;\n",
       "    }\n",
       "\n",
       "    .dataframe tbody tr th {\n",
       "        vertical-align: top;\n",
       "    }\n",
       "\n",
       "    .dataframe thead th {\n",
       "        text-align: right;\n",
       "    }\n",
       "</style>\n",
       "<table border=\"1\" class=\"dataframe\">\n",
       "  <thead>\n",
       "    <tr style=\"text-align: right;\">\n",
       "      <th></th>\n",
       "      <th>buying</th>\n",
       "      <th>maint</th>\n",
       "      <th>doors</th>\n",
       "      <th>persons</th>\n",
       "      <th>lug_boot</th>\n",
       "      <th>safety</th>\n",
       "    </tr>\n",
       "  </thead>\n",
       "  <tbody>\n",
       "    <tr>\n",
       "      <th>0</th>\n",
       "      <td>vhigh</td>\n",
       "      <td>vhigh</td>\n",
       "      <td>2</td>\n",
       "      <td>2</td>\n",
       "      <td>small</td>\n",
       "      <td>low</td>\n",
       "    </tr>\n",
       "    <tr>\n",
       "      <th>1</th>\n",
       "      <td>vhigh</td>\n",
       "      <td>vhigh</td>\n",
       "      <td>2</td>\n",
       "      <td>2</td>\n",
       "      <td>small</td>\n",
       "      <td>med</td>\n",
       "    </tr>\n",
       "    <tr>\n",
       "      <th>2</th>\n",
       "      <td>vhigh</td>\n",
       "      <td>vhigh</td>\n",
       "      <td>2</td>\n",
       "      <td>2</td>\n",
       "      <td>small</td>\n",
       "      <td>high</td>\n",
       "    </tr>\n",
       "    <tr>\n",
       "      <th>3</th>\n",
       "      <td>vhigh</td>\n",
       "      <td>vhigh</td>\n",
       "      <td>2</td>\n",
       "      <td>2</td>\n",
       "      <td>med</td>\n",
       "      <td>low</td>\n",
       "    </tr>\n",
       "    <tr>\n",
       "      <th>4</th>\n",
       "      <td>vhigh</td>\n",
       "      <td>vhigh</td>\n",
       "      <td>2</td>\n",
       "      <td>2</td>\n",
       "      <td>med</td>\n",
       "      <td>med</td>\n",
       "    </tr>\n",
       "    <tr>\n",
       "      <th>...</th>\n",
       "      <td>...</td>\n",
       "      <td>...</td>\n",
       "      <td>...</td>\n",
       "      <td>...</td>\n",
       "      <td>...</td>\n",
       "      <td>...</td>\n",
       "    </tr>\n",
       "    <tr>\n",
       "      <th>1723</th>\n",
       "      <td>low</td>\n",
       "      <td>low</td>\n",
       "      <td>5more</td>\n",
       "      <td>more</td>\n",
       "      <td>med</td>\n",
       "      <td>med</td>\n",
       "    </tr>\n",
       "    <tr>\n",
       "      <th>1724</th>\n",
       "      <td>low</td>\n",
       "      <td>low</td>\n",
       "      <td>5more</td>\n",
       "      <td>more</td>\n",
       "      <td>med</td>\n",
       "      <td>high</td>\n",
       "    </tr>\n",
       "    <tr>\n",
       "      <th>1725</th>\n",
       "      <td>low</td>\n",
       "      <td>low</td>\n",
       "      <td>5more</td>\n",
       "      <td>more</td>\n",
       "      <td>big</td>\n",
       "      <td>low</td>\n",
       "    </tr>\n",
       "    <tr>\n",
       "      <th>1726</th>\n",
       "      <td>low</td>\n",
       "      <td>low</td>\n",
       "      <td>5more</td>\n",
       "      <td>more</td>\n",
       "      <td>big</td>\n",
       "      <td>med</td>\n",
       "    </tr>\n",
       "    <tr>\n",
       "      <th>1727</th>\n",
       "      <td>low</td>\n",
       "      <td>low</td>\n",
       "      <td>5more</td>\n",
       "      <td>more</td>\n",
       "      <td>big</td>\n",
       "      <td>high</td>\n",
       "    </tr>\n",
       "  </tbody>\n",
       "</table>\n",
       "<p>1728 rows × 6 columns</p>\n",
       "</div>"
      ],
      "text/plain": [
       "     buying  maint  doors persons lug_boot safety\n",
       "0     vhigh  vhigh      2       2    small    low\n",
       "1     vhigh  vhigh      2       2    small    med\n",
       "2     vhigh  vhigh      2       2    small   high\n",
       "3     vhigh  vhigh      2       2      med    low\n",
       "4     vhigh  vhigh      2       2      med    med\n",
       "...     ...    ...    ...     ...      ...    ...\n",
       "1723    low    low  5more    more      med    med\n",
       "1724    low    low  5more    more      med   high\n",
       "1725    low    low  5more    more      big    low\n",
       "1726    low    low  5more    more      big    med\n",
       "1727    low    low  5more    more      big   high\n",
       "\n",
       "[1728 rows x 6 columns]"
      ]
     },
     "execution_count": 9,
     "metadata": {},
     "output_type": "execute_result"
    }
   ],
   "source": [
    "X"
   ]
  },
  {
   "cell_type": "code",
   "execution_count": 10,
   "metadata": {
    "colab": {
     "base_uri": "https://localhost:8080/"
    },
    "id": "ClpQPdnSLMbc",
    "outputId": "2e9db1dd-373e-49ee-c491-67d287c1f583"
   },
   "outputs": [
    {
     "data": {
      "text/plain": [
       "0       unacc\n",
       "1       unacc\n",
       "2       unacc\n",
       "3       unacc\n",
       "4       unacc\n",
       "        ...  \n",
       "1723     good\n",
       "1724    vgood\n",
       "1725    unacc\n",
       "1726     good\n",
       "1727    vgood\n",
       "Name: class, Length: 1728, dtype: object"
      ]
     },
     "execution_count": 10,
     "metadata": {},
     "output_type": "execute_result"
    }
   ],
   "source": [
    "y"
   ]
  },
  {
   "cell_type": "markdown",
   "metadata": {},
   "source": [
    "### print the  unique value in each coulmn"
   ]
  },
  {
   "cell_type": "code",
   "execution_count": 11,
   "metadata": {},
   "outputs": [
    {
     "name": "stdout",
     "output_type": "stream",
     "text": [
      "the unique values in buying    column :['vhigh' 'high' 'med' 'low']\n",
      "the unique values in maint     column :['vhigh' 'high' 'med' 'low']\n",
      "the unique values in doors     column :['2' '3' '4' '5more']\n",
      "the unique values in persons   column :['2' '4' 'more']\n",
      "the unique values in lug_boot  column :['small' 'med' 'big']\n",
      "the unique values in safety    column :['low' 'med' 'high']\n",
      "========================================================================\n",
      "the unique values in the target label :['unacc' 'acc' 'vgood' 'good']\n"
     ]
    }
   ],
   "source": [
    "print(f\"the unique values in buying    column :{pd.Series.unique(X.buying)}\")\n",
    "print(f\"the unique values in maint     column :{pd.Series.unique(X.maint)}\")\n",
    "print(f\"the unique values in doors     column :{pd.Series.unique(X.doors)}\")\n",
    "print(f\"the unique values in persons   column :{pd.Series.unique(X.persons)}\")\n",
    "print(f\"the unique values in lug_boot  column :{pd.Series.unique(X.lug_boot)}\")\n",
    "print(f\"the unique values in safety    column :{pd.Series.unique(X.safety)}\")\n",
    "print(\"========================================================================\")\n",
    "print(f\"the unique values in the target label :{pd.Series.unique(y)}\")"
   ]
  },
  {
   "cell_type": "markdown",
   "metadata": {
    "id": "D1Kzoo1-LRAL"
   },
   "source": [
    "# **data preprocessing**\n"
   ]
  },
  {
   "cell_type": "code",
   "execution_count": 12,
   "metadata": {
    "colab": {
     "base_uri": "https://localhost:8080/"
    },
    "id": "wgZIsLGjLXjx",
    "outputId": "df9911e9-9108-45e1-e975-217a21f719f1"
   },
   "outputs": [
    {
     "data": {
      "text/plain": [
       "buying      0\n",
       "maint       0\n",
       "doors       0\n",
       "persons     0\n",
       "lug_boot    0\n",
       "safety      0\n",
       "class       0\n",
       "dtype: int64"
      ]
     },
     "execution_count": 12,
     "metadata": {},
     "output_type": "execute_result"
    }
   ],
   "source": [
    "# checking the number of missing data\n",
    "dataset2.isnull().sum()"
   ]
  },
  {
   "cell_type": "markdown",
   "metadata": {
    "id": "O1zyhMTPL7zw"
   },
   "source": [
    "# **2. a) shuffle the data and get training, validation, testing set**"
   ]
  },
  {
   "cell_type": "code",
   "execution_count": 13,
   "metadata": {
    "id": "TwASa3sOMAkq"
   },
   "outputs": [],
   "source": [
    "X_train, X_test_validation, y_train, y_test_validation = train_test_split( X, y, test_size=0.4209, random_state=42,shuffle=True)\n",
    "X_test, X_validation, y_test, y_validation = train_test_split( X_test_validation,y_test_validation, test_size=0.412, random_state=42,shuffle=True)"
   ]
  },
  {
   "cell_type": "code",
   "execution_count": 14,
   "metadata": {
    "colab": {
     "base_uri": "https://localhost:8080/"
    },
    "id": "91Dcq0ZKMCc2",
    "outputId": "6c218bcc-0b23-43d2-907d-566be6c02ff6"
   },
   "outputs": [
    {
     "name": "stdout",
     "output_type": "stream",
     "text": [
      "length of X_train     : 1000\n",
      "length of y_train     : 1000\n",
      "length of X_validation: 300\n",
      "length of y_validation: 300\n",
      "length of X_test      : 428\n",
      "length of y_test      : 428\n"
     ]
    }
   ],
   "source": [
    "print(\"length of X_train     :\",len(X_train))\n",
    "print(\"length of y_train     :\",len(y_train))\n",
    "print(\"length of X_validation:\",len(X_validation))\n",
    "print(\"length of y_validation:\",len(y_validation))\n",
    "print(\"length of X_test      :\",len(X_test))\n",
    "print(\"length of y_test      :\",len(y_test))"
   ]
  },
  {
   "cell_type": "markdown",
   "metadata": {
    "id": "p88aYeoiLvu1"
   },
   "source": [
    "# **2. b)use ordinal encoder and label encoder to transfer categorical data to numeric data**"
   ]
  },
  {
   "cell_type": "code",
   "execution_count": 15,
   "metadata": {},
   "outputs": [],
   "source": [
    "#!pip install category_encoders"
   ]
  },
  {
   "cell_type": "markdown",
   "metadata": {},
   "source": [
    "### Encoding the training data "
   ]
  },
  {
   "cell_type": "code",
   "execution_count": 16,
   "metadata": {},
   "outputs": [
    {
     "name": "stdout",
     "output_type": "stream",
     "text": [
      "before encoding\n",
      "the unique values in buying    column :['high' 'vhigh' 'low' 'med']\n",
      "the unique values in maint     column :['low' 'med' 'vhigh' 'high']\n",
      "the unique values in doors     column :['3' '5more' '4' '2']\n",
      "the unique values in persons   column :['more' '2' '4']\n",
      "the unique values in lug_boot  column :['big' 'med' 'small']\n",
      "the unique values in safety    column :['high' 'low' 'med']\n",
      "========================================================================\n",
      "before encoding:\n",
      "buying        : object\n",
      "maint         : object\n",
      "doors         : object\n",
      "persons       : object\n",
      "lug_boot      : object\n",
      "safety        : object\n"
     ]
    }
   ],
   "source": [
    "print(\"before encoding\")\n",
    "print(f\"the unique values in buying    column :{pd.Series.unique(X_train.buying)}\")\n",
    "print(f\"the unique values in maint     column :{pd.Series.unique(X_train.maint)}\")\n",
    "print(f\"the unique values in doors     column :{pd.Series.unique(X_train.doors)}\")\n",
    "print(f\"the unique values in persons   column :{pd.Series.unique(X_train.persons)}\")\n",
    "print(f\"the unique values in lug_boot  column :{pd.Series.unique(X_train.lug_boot)}\")\n",
    "print(f\"the unique values in safety    column :{pd.Series.unique(X_train.safety)}\")\n",
    "print(\"========================================================================\")\n",
    "print(\"before encoding:\")\n",
    "print(\"buying        :\",X_train.buying.dtypes)\n",
    "print(\"maint         :\",X_train.maint.dtypes)\n",
    "print(\"doors         :\",X_train.doors.dtypes)\n",
    "print(\"persons       :\",X_train.persons.dtypes) \n",
    "print(\"lug_boot      :\",X_train.lug_boot.dtypes) \n",
    "print(\"safety        :\",X_train.safety.dtypes)"
   ]
  },
  {
   "cell_type": "code",
   "execution_count": 17,
   "metadata": {},
   "outputs": [],
   "source": [
    "# encode the features using ordinalEncoder\n",
    "import category_encoders as ce \n",
    "\n",
    "encoder_1= ce.OrdinalEncoder(cols=['buying'],return_df=True,mapping=[{'col':'buying','mapping':{'vhigh':4 ,'high':3 ,'med':2 ,'low':1}}])\n",
    "X_train.buying= encoder_1.fit_transform(X_train.buying)\n",
    "\n",
    "encoder_2= ce.OrdinalEncoder(cols=['maint'],return_df=True,mapping=[{'col':'maint','mapping':{'vhigh':4 ,'high':3 ,'med':2 ,'low':1}}])\n",
    "X_train.maint= encoder_2.fit_transform(X_train.maint)\n",
    "\n",
    "encoder_3= ce.OrdinalEncoder(cols=['doors'],return_df=True,mapping=[{'col':'doors','mapping':{'2':2,'3':3,'4':4,'5more':5}}])\n",
    "X_train.doors= encoder_3.fit_transform(X_train.doors)\n",
    "\n",
    "encoder_4= ce.OrdinalEncoder(cols=['persons'],return_df=True,mapping=[{'col':'persons','mapping':{'2':2,'4':4,'more':6}}])\n",
    "X_train.persons= encoder_4.fit_transform(X_train.persons)\n",
    "\n",
    "encoder_5= ce.OrdinalEncoder(cols=['lug_boot'],return_df=True,mapping=[{'col':'lug_boot','mapping':{'small':1 ,'med':2 ,'big':3}}])\n",
    "X_train.lug_boot= encoder_5.fit_transform(X_train.lug_boot)\n",
    "\n",
    "encoder_6= ce.OrdinalEncoder(cols=['safety'],return_df=True,mapping=[{'col':'safety','mapping':{'low':1,'med':2,'high':3}}])\n",
    "X_train.safety = encoder_6.fit_transform(X_train.safety)\n"
   ]
  },
  {
   "cell_type": "code",
   "execution_count": 18,
   "metadata": {
    "id": "cTibg6mwL3AO"
   },
   "outputs": [],
   "source": [
    "# encode the target label using label encoder \n",
    "labelencoder_y = LabelEncoder()\n",
    "labelencoder_y.fit(y_train)\n",
    "y_train  = labelencoder_y.transform(y_train)"
   ]
  },
  {
   "cell_type": "code",
   "execution_count": 19,
   "metadata": {},
   "outputs": [
    {
     "name": "stdout",
     "output_type": "stream",
     "text": [
      "after encoding\n",
      "the unique values in buying    column :[3 4 1 2]\n",
      "the unique values in maint     column :[1 2 4 3]\n",
      "the unique values in doors     column :[3 5 4 2]\n",
      "the unique values in persons   column :[6 2 4]\n",
      "the unique values in lug_boot  column :[3 2 1]\n",
      "the unique values in safety    column :[3 1 2]\n",
      "========================================================================\n",
      "after encoding:\n",
      "buying        : int32\n",
      "maint         : int32\n",
      "doors         : int32\n",
      "persons       : int32\n",
      "lug_boot      : int32\n",
      "safety        : int32\n"
     ]
    }
   ],
   "source": [
    "print(\"after encoding\")\n",
    "print(f\"the unique values in buying    column :{pd.Series.unique(X_train.buying)}\")\n",
    "print(f\"the unique values in maint     column :{pd.Series.unique(X_train.maint)}\")\n",
    "print(f\"the unique values in doors     column :{pd.Series.unique(X_train.doors)}\")\n",
    "print(f\"the unique values in persons   column :{pd.Series.unique(X_train.persons)}\")\n",
    "print(f\"the unique values in lug_boot  column :{pd.Series.unique(X_train.lug_boot)}\")\n",
    "print(f\"the unique values in safety    column :{pd.Series.unique(X_train.safety)}\")\n",
    "print(\"========================================================================\")\n",
    "print(\"after encoding:\")\n",
    "print(\"buying        :\",X_train.buying.dtypes)\n",
    "print(\"maint         :\",X_train.maint.dtypes)\n",
    "print(\"doors         :\",X_train.doors.dtypes)\n",
    "print(\"persons       :\",X_train.persons.dtypes) \n",
    "print(\"lug_boot      :\",X_train.lug_boot.dtypes) \n",
    "print(\"safety        :\",X_train.safety.dtypes)"
   ]
  },
  {
   "cell_type": "markdown",
   "metadata": {},
   "source": [
    "### Encoding the validation data "
   ]
  },
  {
   "cell_type": "code",
   "execution_count": 20,
   "metadata": {},
   "outputs": [],
   "source": [
    "X_validation.buying= encoder_1.transform(X_validation.buying)\n",
    "X_validation.maint= encoder_2.transform(X_validation.maint)\n",
    "X_validation.doors= encoder_3.transform(X_validation.doors)\n",
    "X_validation.persons= encoder_4.transform(X_validation.persons)\n",
    "X_validation.lug_boot= encoder_5.transform(X_validation.lug_boot)\n",
    "X_validation.safety = encoder_6.transform(X_validation.safety)"
   ]
  },
  {
   "cell_type": "code",
   "execution_count": 21,
   "metadata": {},
   "outputs": [],
   "source": [
    "# encode the target label using label encoder \n",
    "y_validation  = labelencoder_y.transform(y_validation)"
   ]
  },
  {
   "cell_type": "markdown",
   "metadata": {},
   "source": [
    "### Encoding the testing data "
   ]
  },
  {
   "cell_type": "code",
   "execution_count": 22,
   "metadata": {},
   "outputs": [],
   "source": [
    "X_test.buying= encoder_1.transform(X_test.buying)\n",
    "X_test.maint= encoder_2.transform(X_test.maint)\n",
    "X_test.doors= encoder_3.transform(X_test.doors)\n",
    "X_test.persons= encoder_4.transform(X_test.persons)\n",
    "X_test.lug_boot= encoder_5.transform(X_test.lug_boot)\n",
    "X_test.safety = encoder_6.transform(X_test.safety)"
   ]
  },
  {
   "cell_type": "code",
   "execution_count": 23,
   "metadata": {},
   "outputs": [],
   "source": [
    "# encode the target label using label encoder \n",
    "y_test  = labelencoder_y.transform(y_test)"
   ]
  },
  {
   "cell_type": "markdown",
   "metadata": {
    "id": "U_hwvACQMFl8"
   },
   "source": [
    "# **2. c)use different number of training samples to show the impact of number of training sample**"
   ]
  },
  {
   "cell_type": "code",
   "execution_count": 24,
   "metadata": {
    "id": "plOVN3QaMNhG"
   },
   "outputs": [],
   "source": [
    "def Evaluate(model,X_train,y_train,X_validation,y_validation,X_test,y_test):\n",
    "    \n",
    "    start = timeit.default_timer()\n",
    "    model.fit(X_train, y_train)\n",
    "    stop = timeit.default_timer()\n",
    "    train_time=(stop-start) # training time\n",
    "    \n",
    "    # test the accuracy on the validation set\n",
    "    validation_score=model.score(X_validation, y_validation)*100\n",
    "    \n",
    "    start2 = timeit.default_timer()\n",
    "    validation_prediction=model.predict(X_validation)\n",
    "    stop2 = timeit.default_timer()\n",
    "    prediction_time_validation=(stop2-start2) # prediction time based on the validation set \n",
    "    \n",
    "    # test the accuracy on the test set\n",
    "    test_score=model.score(X_test, y_test)*100\n",
    "    \n",
    "    start3 = timeit.default_timer()\n",
    "    test_prediction=model.predict(X_test)\n",
    "    stop3 = timeit.default_timer()\n",
    "    prediction_time_testing=(stop3-start3) # prediction time based on the testing set\n",
    "    \n",
    "    print(\"===============================================\")\n",
    "    print(\"training time                         :\",train_time)\n",
    "    print(\"prediction time on validation set     :\",prediction_time_validation)\n",
    "    print(\"prediction time on testing set        :\",prediction_time_testing)\n",
    "    print('validation accuracy :',validation_score)\n",
    "    print('testing accuracy    :',test_score)\n",
    "    print(\"===============================================\")\n",
    "#     ConfusionMatrixDisplay.from_estimator(model,X_validation, y_validation)  \n",
    "#     plt.show()\n",
    "\n",
    "    return train_time,prediction_time_validation,prediction_time_testing,validation_score,test_score"
   ]
  },
  {
   "cell_type": "code",
   "execution_count": 25,
   "metadata": {
    "id": "QB086sdBMSf7"
   },
   "outputs": [],
   "source": [
    "# Fitting K-NN \n",
    "from sklearn.neighbors import KNeighborsClassifier\n",
    "def train_KNN_model(k,X_train,y_train,X_validation,y_validation,X_test,y_test):\n",
    "    classifier = KNeighborsClassifier(n_neighbors = k,metric='minkowski',p = 2)\n",
    "    train_time,prediction_time_validation,prediction_time_testing,validation_score,test_score=Evaluate(classifier,X_train,y_train,X_validation,y_validation,X_test,y_test)\n",
    "    return train_time,prediction_time_validation,prediction_time_testing,validation_score,test_score"
   ]
  },
  {
   "cell_type": "code",
   "execution_count": 26,
   "metadata": {
    "id": "Ax2yEsTLMWGK"
   },
   "outputs": [],
   "source": [
    "def train_with_percentage(k,data_limit,X_train,y_train,X_validation,y_validation,X_test,y_test):\n",
    "    X_train = X_train.head(data_limit)\n",
    "    y_train = y_train[0:data_limit]\n",
    "    print(f\"percentage of training data:{int(data_limit/10)}% , k value : {k}\",)\n",
    "    train_time,prediction_time_validation,prediction_time_testing,validation_score,test_score=train_KNN_model(k,X_train,y_train,X_validation,y_validation,X_test,y_test)\n",
    "    return train_time,prediction_time_validation,prediction_time_testing,validation_score,test_score"
   ]
  },
  {
   "cell_type": "code",
   "execution_count": 27,
   "metadata": {
    "colab": {
     "base_uri": "https://localhost:8080/"
    },
    "id": "uELjPlA4MZau",
    "outputId": "bd3b75d0-2d2b-4ffd-90e0-c42c20f1a236"
   },
   "outputs": [
    {
     "name": "stdout",
     "output_type": "stream",
     "text": [
      "percentage of training data:10% , k value : 2\n",
      "===============================================\n",
      "training time                         : 0.012227700000000397\n",
      "prediction time on validation set     : 0.007679899999999407\n",
      "prediction time on testing set        : 0.011325900000002775\n",
      "validation accuracy : 78.66666666666666\n",
      "testing accuracy    : 76.16822429906543\n",
      "===============================================\n",
      "percentage of training data:20% , k value : 2\n",
      "===============================================\n",
      "training time                         : 0.001922400000001545\n",
      "prediction time on validation set     : 0.007612200000000513\n",
      "prediction time on testing set        : 0.010027000000000896\n",
      "validation accuracy : 81.0\n",
      "testing accuracy    : 77.33644859813083\n",
      "===============================================\n",
      "percentage of training data:30% , k value : 2\n",
      "===============================================\n",
      "training time                         : 0.0013313000000003683\n",
      "prediction time on validation set     : 0.007591100000002626\n",
      "prediction time on testing set        : 0.010283600000001059\n",
      "validation accuracy : 85.66666666666667\n",
      "testing accuracy    : 79.43925233644859\n",
      "===============================================\n",
      "percentage of training data:40% , k value : 2\n",
      "===============================================\n",
      "training time                         : 0.0015439999999991016\n",
      "prediction time on validation set     : 0.007662100000001004\n",
      "prediction time on testing set        : 0.010330299999999681\n",
      "validation accuracy : 84.33333333333334\n",
      "testing accuracy    : 81.07476635514018\n",
      "===============================================\n",
      "percentage of training data:50% , k value : 2\n",
      "===============================================\n",
      "training time                         : 0.0020436000000003673\n",
      "prediction time on validation set     : 0.00759700000000052\n",
      "prediction time on testing set        : 0.010647500000001031\n",
      "validation accuracy : 83.33333333333334\n",
      "testing accuracy    : 82.00934579439252\n",
      "===============================================\n",
      "percentage of training data:60% , k value : 2\n",
      "===============================================\n",
      "training time                         : 0.002109199999999589\n",
      "prediction time on validation set     : 0.0104621999999992\n",
      "prediction time on testing set        : 0.01207549999999813\n",
      "validation accuracy : 85.66666666666667\n",
      "testing accuracy    : 82.2429906542056\n",
      "===============================================\n",
      "percentage of training data:70% , k value : 2\n",
      "===============================================\n",
      "training time                         : 0.0025380999999988774\n",
      "prediction time on validation set     : 0.008019600000000793\n",
      "prediction time on testing set        : 0.011552699999999305\n",
      "validation accuracy : 87.0\n",
      "testing accuracy    : 82.4766355140187\n",
      "===============================================\n",
      "percentage of training data:80% , k value : 2\n",
      "===============================================\n",
      "training time                         : 0.0020282999999992057\n",
      "prediction time on validation set     : 0.007899200000000661\n",
      "prediction time on testing set        : 0.011013000000001938\n",
      "validation accuracy : 87.33333333333333\n",
      "testing accuracy    : 82.94392523364486\n",
      "===============================================\n",
      "percentage of training data:90% , k value : 2\n",
      "===============================================\n",
      "training time                         : 0.002607799999999827\n",
      "prediction time on validation set     : 0.008162300000002176\n",
      "prediction time on testing set        : 0.011065800000000792\n",
      "validation accuracy : 87.66666666666667\n",
      "testing accuracy    : 81.77570093457945\n",
      "===============================================\n",
      "percentage of training data:100% , k value : 2\n",
      "===============================================\n",
      "training time                         : 0.0029719999999997526\n",
      "prediction time on validation set     : 0.008199499999999915\n",
      "prediction time on testing set        : 0.011000400000000354\n",
      "validation accuracy : 86.66666666666667\n",
      "testing accuracy    : 82.4766355140187\n",
      "===============================================\n"
     ]
    }
   ],
   "source": [
    "training_percentages = [10,20,30,40,50,60,70,80,90,100]\n",
    "validation_accuracy = []\n",
    "testing_accuracy = []\n",
    "training_times = []\n",
    "prediction_validation_times = []\n",
    "prediction_testing_times = []\n",
    "for i in training_percentages:\n",
    "    limit = i*10\n",
    "    train_time,prediction_time_validation,prediction_time_testing,validation_score,test_score=train_with_percentage(2,limit,X_train,y_train,X_validation,y_validation,X_test,y_test)\n",
    "    validation_accuracy.append(validation_score)\n",
    "    testing_accuracy.append(test_score)\n",
    "    training_times.append(train_time)\n",
    "    prediction_validation_times.append(prediction_time_validation)\n",
    "    prediction_testing_times.append(prediction_time_testing)"
   ]
  },
  {
   "cell_type": "code",
   "execution_count": 28,
   "metadata": {
    "colab": {
     "base_uri": "https://localhost:8080/",
     "height": 350
    },
    "id": "z5TxUXzmMcRt",
    "outputId": "51730398-30c3-4512-99fe-597fd62dbadf"
   },
   "outputs": [
    {
     "data": {
      "image/png": "[encoded data removed]",
      "text/plain": [
       "<Figure size 720x360 with 1 Axes>"
      ]
     },
     "metadata": {
      "needs_background": "light"
     },
     "output_type": "display_data"
    }
   ],
   "source": [
    "fig = plt.figure(figsize = (10, 5))\n",
    "plt.bar([\"10%\",\"20\",\"30%\",\"40%\",\"50%\",\"60%\",\"70%\",\"80%\",\"90%\",\"100%\"], validation_accuracy, color ='green',width = 0.4)\n",
    " \n",
    "plt.xlabel(\"the portion of the training set\")\n",
    "plt.ylabel(\"validation accuracy score\")\n",
    "plt.title(\"the validation accuracies for different training sets\")\n",
    "plt.show()"
   ]
  },
  {
   "cell_type": "code",
   "execution_count": 29,
   "metadata": {},
   "outputs": [
    {
     "data": {
      "image/png": "[encoded data removed]",
      "text/plain": [
       "<Figure size 432x288 with 1 Axes>"
      ]
     },
     "metadata": {
      "needs_background": "light"
     },
     "output_type": "display_data"
    }
   ],
   "source": [
    "plt.plot([\"10%\",\"20\",\"30%\",\"40%\",\"50%\",\"60%\",\"70%\",\"80%\",\"90%\",\"100%\"], validation_accuracy,marker='o', markersize=5, label='validation Accuracy')\n",
    "plt.xlabel('the training set size')\n",
    "plt.ylabel('validation accuracy')\n",
    "plt.title(\"the validation accuracy curve with different training set sizes\")\n",
    "plt.legend(['Validation accuracy'])\n",
    "plt.grid()\n",
    "plt.show()"
   ]
  },
  {
   "cell_type": "code",
   "execution_count": 30,
   "metadata": {
    "colab": {
     "base_uri": "https://localhost:8080/",
     "height": 350
    },
    "id": "sAe82cnbMfe-",
    "outputId": "3a7b2135-a34e-4c4b-9adb-b3af6d5819de"
   },
   "outputs": [
    {
     "data": {
      "image/png": "[encoded data removed]",
      "text/plain": [
       "<Figure size 720x360 with 1 Axes>"
      ]
     },
     "metadata": {
      "needs_background": "light"
     },
     "output_type": "display_data"
    }
   ],
   "source": [
    "# creating the bar plot\n",
    "fig = plt.figure(figsize = (10, 5))\n",
    "plt.bar([\"10%\",\"20\",\"30%\",\"40%\",\"50%\",\"60%\",\"70%\",\"80%\",\"90%\",\"100%\"], testing_accuracy, color ='blue',width = 0.4)\n",
    " \n",
    "plt.xlabel(\"the portion of the training set\")\n",
    "plt.ylabel(\"testing accuracy score\")\n",
    "plt.title(\"the testing accuracies for different training sets\")\n",
    "plt.show()"
   ]
  },
  {
   "cell_type": "code",
   "execution_count": 31,
   "metadata": {},
   "outputs": [
    {
     "data": {
      "image/png": "[encoded data removed]",
      "text/plain": [
       "<Figure size 432x288 with 1 Axes>"
      ]
     },
     "metadata": {
      "needs_background": "light"
     },
     "output_type": "display_data"
    }
   ],
   "source": [
    "plt.plot([\"10%\",\"20\",\"30%\",\"40%\",\"50%\",\"60%\",\"70%\",\"80%\",\"90%\",\"100%\"], testing_accuracy,marker='o', markersize=5, label='testing Accuracy')\n",
    "plt.xlabel('the training set size')\n",
    "plt.ylabel('testing accuracy')\n",
    "plt.title(\"the testing accuracy curve with different training set sizes\")\n",
    "plt.legend(['Test  accuracy'])\n",
    "plt.grid()\n",
    "plt.show()"
   ]
  },
  {
   "cell_type": "code",
   "execution_count": 32,
   "metadata": {},
   "outputs": [
    {
     "data": {
      "image/png": "[encoded data removed]",
      "text/plain": [
       "<Figure size 432x288 with 1 Axes>"
      ]
     },
     "metadata": {
      "needs_background": "light"
     },
     "output_type": "display_data"
    }
   ],
   "source": [
    "plt.plot([\"10%\",\"20\",\"30%\",\"40%\",\"50%\",\"60%\",\"70%\",\"80%\",\"90%\",\"100%\"], validation_accuracy,marker='o', markersize=5, label='validation Accuracy')\n",
    "plt.plot([\"10%\",\"20\",\"30%\",\"40%\",\"50%\",\"60%\",\"70%\",\"80%\",\"90%\",\"100%\"], testing_accuracy,marker='o', markersize=5, label='testing Accuracy')\n",
    "plt.xlabel('the training set size')\n",
    "plt.ylabel(' accuracy')\n",
    "plt.title(\"the validation and testing accuracy curve with different training set sizes\")\n",
    "plt.legend(['Validation accuracy', 'Test  accuracy'])\n",
    "plt.grid()\n",
    "plt.show()"
   ]
  },
  {
   "cell_type": "code",
   "execution_count": 33,
   "metadata": {
    "colab": {
     "base_uri": "https://localhost:8080/",
     "height": 350
    },
    "id": "EPehple-Mhzr",
    "outputId": "e7d15a80-b355-40ff-819f-46632ff68649"
   },
   "outputs": [
    {
     "data": {
      "image/png": "[encoded data removed]",
      "text/plain": [
       "<Figure size 720x360 with 1 Axes>"
      ]
     },
     "metadata": {
      "needs_background": "light"
     },
     "output_type": "display_data"
    }
   ],
   "source": [
    "# creating the bar plot\n",
    "fig = plt.figure(figsize = (10, 5))\n",
    "plt.bar(training_percentages, training_times, color ='red',width = 1)\n",
    " \n",
    "plt.xlabel(\"the portion of the training set\")\n",
    "plt.ylabel(\"training time in seconds\")\n",
    "plt.title(\"the training time for different training sets\")\n",
    "plt.show()"
   ]
  },
  {
   "cell_type": "code",
   "execution_count": 34,
   "metadata": {
    "colab": {
     "base_uri": "https://localhost:8080/",
     "height": 350
    },
    "id": "QPhkbOkqMtoM",
    "outputId": "c66ce5ce-0ccf-474c-e77e-384a1ff7ab8c"
   },
   "outputs": [
    {
     "data": {
      "image/png": "[encoded data removed]",
      "text/plain": [
       "<Figure size 720x360 with 1 Axes>"
      ]
     },
     "metadata": {
      "needs_background": "light"
     },
     "output_type": "display_data"
    }
   ],
   "source": [
    "# creating the bar plot\n",
    "fig = plt.figure(figsize = (10, 5))\n",
    "plt.bar(training_percentages, prediction_validation_times, color ='gray',width = 1)\n",
    " \n",
    "plt.xlabel(\"the portion of the training set\")\n",
    "plt.ylabel(\"prediction  time using validation set in seconds\")\n",
    "plt.title(\"the prediction times using validation set for different training sets\")\n",
    "plt.show()"
   ]
  },
  {
   "cell_type": "code",
   "execution_count": 35,
   "metadata": {
    "colab": {
     "base_uri": "https://localhost:8080/",
     "height": 350
    },
    "id": "MY4eK1_tMwjY",
    "outputId": "574ce54d-2ee2-4cdd-8b18-fd2cf282cabd"
   },
   "outputs": [
    {
     "data": {
      "image/png": "[encoded data removed]",
      "text/plain": [
       "<Figure size 720x360 with 1 Axes>"
      ]
     },
     "metadata": {
      "needs_background": "light"
     },
     "output_type": "display_data"
    }
   ],
   "source": [
    "# creating the bar plot\n",
    "fig = plt.figure(figsize = (10, 5))\n",
    "plt.bar(training_percentages, prediction_testing_times,width = 1)\n",
    " \n",
    "plt.xlabel(\"the portion of the training set\")\n",
    "plt.ylabel(\"prediction  time using testing set in seconds\")\n",
    "plt.title(\"the prediction times using testing set for different training sets\")\n",
    "plt.show()"
   ]
  },
  {
   "cell_type": "markdown",
   "metadata": {
    "id": "yuEwYUa6M1j3"
   },
   "source": [
    "### 2. d) use 100% of the training set and k varies from 1 to 10 "
   ]
  },
  {
   "cell_type": "code",
   "execution_count": 36,
   "metadata": {
    "colab": {
     "base_uri": "https://localhost:8080/"
    },
    "id": "qyvHn4oEM8Hk",
    "outputId": "d2263ee3-e4db-46dd-e8b7-6b4f76348488"
   },
   "outputs": [
    {
     "name": "stdout",
     "output_type": "stream",
     "text": [
      "percentage of training data:100% , k value : 1\n",
      "===============================================\n",
      "training time                         : 0.003800300000001755\n",
      "prediction time on validation set     : 0.01053460000000328\n",
      "prediction time on testing set        : 0.011512799999998435\n",
      "validation accuracy : 87.33333333333333\n",
      "testing accuracy    : 85.2803738317757\n",
      "===============================================\n",
      "percentage of training data:100% , k value : 2\n",
      "===============================================\n",
      "training time                         : 0.0030546999999998548\n",
      "prediction time on validation set     : 0.008209000000000799\n",
      "prediction time on testing set        : 0.011729900000002402\n",
      "validation accuracy : 86.66666666666667\n",
      "testing accuracy    : 82.4766355140187\n",
      "===============================================\n",
      "percentage of training data:100% , k value : 3\n",
      "===============================================\n",
      "training time                         : 0.0034628000000012094\n",
      "prediction time on validation set     : 0.008342299999998914\n",
      "prediction time on testing set        : 0.01206499999999977\n",
      "validation accuracy : 90.66666666666666\n",
      "testing accuracy    : 93.22429906542055\n",
      "===============================================\n",
      "percentage of training data:100% , k value : 4\n",
      "===============================================\n",
      "training time                         : 0.0023982999999994092\n",
      "prediction time on validation set     : 0.008437900000000553\n",
      "prediction time on testing set        : 0.011441099999998983\n",
      "validation accuracy : 89.0\n",
      "testing accuracy    : 90.65420560747664\n",
      "===============================================\n",
      "percentage of training data:100% , k value : 5\n",
      "===============================================\n",
      "training time                         : 0.0022398999999992952\n",
      "prediction time on validation set     : 0.008494400000000013\n",
      "prediction time on testing set        : 0.012498499999999524\n",
      "validation accuracy : 91.66666666666666\n",
      "testing accuracy    : 93.45794392523365\n",
      "===============================================\n",
      "percentage of training data:100% , k value : 6\n",
      "===============================================\n",
      "training time                         : 0.0034915000000026453\n",
      "prediction time on validation set     : 0.008659799999996665\n",
      "prediction time on testing set        : 0.012270299999997292\n",
      "validation accuracy : 91.0\n",
      "testing accuracy    : 91.1214953271028\n",
      "===============================================\n",
      "percentage of training data:100% , k value : 7\n",
      "===============================================\n",
      "training time                         : 0.0038650000000011175\n",
      "prediction time on validation set     : 0.009476799999998065\n",
      "prediction time on testing set        : 0.013159800000000388\n",
      "validation accuracy : 90.0\n",
      "testing accuracy    : 92.28971962616822\n",
      "===============================================\n",
      "percentage of training data:100% , k value : 8\n",
      "===============================================\n",
      "training time                         : 0.003406500000000534\n",
      "prediction time on validation set     : 0.009213100000000196\n",
      "prediction time on testing set        : 0.01200290000000237\n",
      "validation accuracy : 91.0\n",
      "testing accuracy    : 92.28971962616822\n",
      "===============================================\n",
      "percentage of training data:100% , k value : 9\n",
      "===============================================\n",
      "training time                         : 0.0030007000000011885\n",
      "prediction time on validation set     : 0.008681299999999226\n",
      "prediction time on testing set        : 0.01233919999999955\n",
      "validation accuracy : 91.0\n",
      "testing accuracy    : 92.05607476635514\n",
      "===============================================\n",
      "percentage of training data:100% , k value : 10\n",
      "===============================================\n",
      "training time                         : 0.0032978999999997427\n",
      "prediction time on validation set     : 0.0091992999999988\n",
      "prediction time on testing set        : 0.012692899999997564\n",
      "validation accuracy : 90.0\n",
      "testing accuracy    : 90.88785046728972\n",
      "===============================================\n"
     ]
    }
   ],
   "source": [
    "validation_accuracy2 = []\n",
    "testing_accuracy2 = []\n",
    "training_times2 = []\n",
    "prediction_validation_times2 = []\n",
    "prediction_testing_times2 = []\n",
    "k_values = [1,2,3,4,5,6,7,8,9,10]\n",
    "for i in k_values:\n",
    "    train_time,prediction_time_validation,prediction_time_testing,validation_score,test_score=train_with_percentage(i,1000,X_train,y_train,X_validation,y_validation,X_test,y_test)\n",
    "    validation_accuracy2.append(validation_score)\n",
    "    testing_accuracy2.append(test_score)\n",
    "    training_times2.append(train_time)\n",
    "    prediction_validation_times2.append(prediction_time_validation)\n",
    "    prediction_testing_times2.append(prediction_time_testing)"
   ]
  },
  {
   "cell_type": "code",
   "execution_count": 37,
   "metadata": {
    "colab": {
     "base_uri": "https://localhost:8080/",
     "height": 350
    },
    "id": "_A3NNniSM-1m",
    "outputId": "6f14dcb2-d531-4866-848f-fa665b293f13"
   },
   "outputs": [
    {
     "data": {
      "image/png": "[encoded data removed]",
      "text/plain": [
       "<Figure size 720x360 with 1 Axes>"
      ]
     },
     "metadata": {
      "needs_background": "light"
     },
     "output_type": "display_data"
    }
   ],
   "source": [
    "# creating the bar plot\n",
    "fig = plt.figure(figsize = (10, 5))\n",
    "plt.bar(k_values, validation_accuracy2,width = 0.4)\n",
    " \n",
    "plt.xlabel(\"the value of K \")\n",
    "plt.ylabel(\"the validation accurracy\")\n",
    "plt.title(\"the validation accuracies when k varies from 1 to 10\")\n",
    "plt.show()"
   ]
  },
  {
   "cell_type": "code",
   "execution_count": 38,
   "metadata": {
    "colab": {
     "base_uri": "https://localhost:8080/",
     "height": 295
    },
    "id": "crHrlGydNBfh",
    "outputId": "11091b32-ba1a-4450-c1ed-7d4d609e814f"
   },
   "outputs": [
    {
     "data": {
      "image/png": "[encoded data removed]",
      "text/plain": [
       "<Figure size 432x288 with 1 Axes>"
      ]
     },
     "metadata": {
      "needs_background": "light"
     },
     "output_type": "display_data"
    }
   ],
   "source": [
    "plt.plot(k_values, validation_accuracy2,marker='o', markersize=5, label='validation Accuracy')\n",
    "plt.xlabel('the value of K')\n",
    "plt.ylabel('Validation accuracy ')\n",
    "plt.title(\"the accuracy curve on the validation set when k varies from 1 to 10\")\n",
    "plt.grid()\n",
    "plt.show()"
   ]
  },
  {
   "cell_type": "code",
   "execution_count": 39,
   "metadata": {},
   "outputs": [
    {
     "data": {
      "image/png": "[encoded data removed]",
      "text/plain": [
       "<Figure size 432x288 with 1 Axes>"
      ]
     },
     "metadata": {
      "needs_background": "light"
     },
     "output_type": "display_data"
    }
   ],
   "source": [
    "plt.plot(k_values,testing_accuracy2,marker='o', markersize=5, label='testing Accuracy')\n",
    "plt.xlabel('the value of K')\n",
    "plt.ylabel('testing accuracy ')\n",
    "plt.title(\"the accuracy curve on the test set when k varies from 1 to 10\")\n",
    "plt.grid()\n",
    "plt.show()"
   ]
  },
  {
   "cell_type": "code",
   "execution_count": 40,
   "metadata": {},
   "outputs": [
    {
     "data": {
      "image/png": "[encoded data removed]",
      "text/plain": [
       "<Figure size 432x288 with 1 Axes>"
      ]
     },
     "metadata": {
      "needs_background": "light"
     },
     "output_type": "display_data"
    }
   ],
   "source": [
    "plt.plot(k_values,validation_accuracy2,marker='o', markersize=5, label='validation Accuracy')\n",
    "plt.plot(k_values,testing_accuracy2,marker='o', markersize=5, label='testing Accuracy')\n",
    "plt.xlabel('the value of K')\n",
    "plt.ylabel(' accuracy ')\n",
    "plt.title(\"the accuracy curve on the validaion and test set when k varies from 1 to 10\")\n",
    "plt.legend(['validation Accuracy','testing Accuracy'])\n",
    "plt.grid()\n",
    "plt.show()"
   ]
  },
  {
   "cell_type": "markdown",
   "metadata": {
    "id": "0ogP9TzgNEvO"
   },
   "source": [
    "**### 2.e ) Analysis the training time when use different number of training samples.**"
   ]
  },
  {
   "cell_type": "code",
   "execution_count": 41,
   "metadata": {
    "colab": {
     "base_uri": "https://localhost:8080/"
    },
    "id": "K0J9WunJNLNy",
    "outputId": "8c1ddc46-6954-4639-b056-dcc8b53721c2"
   },
   "outputs": [
    {
     "name": "stdout",
     "output_type": "stream",
     "text": [
      "percentage of training data:10% , k value : 2\n",
      "===============================================\n",
      "training time                         : 0.0018808999999997411\n",
      "prediction time on validation set     : 0.0104495\n",
      "prediction time on testing set        : 0.011669099999998878\n",
      "validation accuracy : 78.66666666666666\n",
      "testing accuracy    : 76.16822429906543\n",
      "===============================================\n",
      "percentage of training data:100% , k value : 2\n",
      "===============================================\n",
      "training time                         : 0.003703800000000257\n",
      "prediction time on validation set     : 0.00868910000000156\n",
      "prediction time on testing set        : 0.011409500000002737\n",
      "validation accuracy : 86.66666666666667\n",
      "testing accuracy    : 82.4766355140187\n",
      "===============================================\n",
      "percentage of training data:10% , k value : 10\n",
      "===============================================\n",
      "training time                         : 0.0015728000000017062\n",
      "prediction time on validation set     : 0.007710900000002852\n",
      "prediction time on testing set        : 0.011161099999998925\n",
      "validation accuracy : 80.0\n",
      "testing accuracy    : 76.4018691588785\n",
      "===============================================\n",
      "percentage of training data:100% , k value : 10\n",
      "===============================================\n",
      "training time                         : 0.0034863000000022737\n",
      "prediction time on validation set     : 0.008791000000002214\n",
      "prediction time on testing set        : 0.013344899999999882\n",
      "validation accuracy : 90.0\n",
      "testing accuracy    : 90.88785046728972\n",
      "===============================================\n"
     ]
    }
   ],
   "source": [
    "k_values2 =[2,2,10,10]\n",
    "percent =[10,100,10,100]\n",
    "validation_accuracy3 = []\n",
    "testing_accuracy3 = []\n",
    "training_times3 = []\n",
    "prediction_validation_times3 = []\n",
    "prediction_testing_times3 = []\n",
    "\n",
    "for i in range(4):\n",
    "    limit = percent[i]*10\n",
    "    k = k_values2[i]\n",
    "    train_time,prediction_time_validation,prediction_time_testing,validation_score,test_score=train_with_percentage(k,limit,X_train,y_train,X_validation,y_validation,X_test,y_test)\n",
    "    validation_accuracy3.append(validation_score)\n",
    "    testing_accuracy3.append(test_score)\n",
    "    training_times3.append(train_time)\n",
    "    prediction_validation_times3.append(prediction_time_validation)\n",
    "    prediction_testing_times3.append(prediction_time_testing)"
   ]
  },
  {
   "cell_type": "code",
   "execution_count": 42,
   "metadata": {
    "colab": {
     "base_uri": "https://localhost:8080/",
     "height": 350
    },
    "id": "Oh_-pa6oNOU3",
    "outputId": "a4f89659-a090-4da4-ecd6-bf1a213ea82f"
   },
   "outputs": [
    {
     "data": {
      "image/png": "[encoded data removed]",
      "text/plain": [
       "<Figure size 1440x360 with 1 Axes>"
      ]
     },
     "metadata": {
      "needs_background": "light"
     },
     "output_type": "display_data"
    }
   ],
   "source": [
    "# creating the bar plot\n",
    "fig = plt.figure(figsize = (20, 5))\n",
    "labels = [\"k=2,percent=10%\",\"k=2,percent=100%\",\"k=10,percent=10%\",\"k=10,percent=100%\"]\n",
    "\n",
    "plt.bar(labels, prediction_testing_times3,width = 0.1)\n",
    " \n",
    "plt.xlabel(\"the model in term of spesific key and spesific training percentage\")\n",
    "plt.ylabel(\"prediction  time using testing set in seconds\")\n",
    "plt.title(\"the prediction times using testing set for different compination between the value of K and the size of the training set\")\n",
    "plt.show()"
   ]
  },
  {
   "cell_type": "code",
   "execution_count": 43,
   "metadata": {},
   "outputs": [
    {
     "data": {
      "image/png": "[encoded data removed]",
      "text/plain": [
       "<Figure size 432x288 with 1 Axes>"
      ]
     },
     "metadata": {
      "needs_background": "light"
     },
     "output_type": "display_data"
    }
   ],
   "source": [
    "plt.plot([\"k=2,percent=10%\",\"k=2,percent=100%\",\"k=10,percent=10%\",\"k=10,percent=100%\"], prediction_testing_times3,marker='o', markersize=5, label='validation Accuracy')\n",
    "plt.xlabel('the value of K and the size of the training set')\n",
    "plt.ylabel('prediction time in second')\n",
    "plt.title(\"the prediction time curve on the testing set with different compinations of k and training data size\")\n",
    "plt.grid()\n",
    "plt.show()"
   ]
  },
  {
   "cell_type": "code",
   "execution_count": 44,
   "metadata": {},
   "outputs": [
    {
     "data": {
      "image/png": "[encoded data removed]",
      "text/plain": [
       "<Figure size 432x288 with 1 Axes>"
      ]
     },
     "metadata": {
      "needs_background": "light"
     },
     "output_type": "display_data"
    }
   ],
   "source": [
    "plt.plot([\"k=2,percent=10%\",\"k=2,percent=100%\",\"k=10,percent=10%\",\"k=10,percent=100%\"], training_times3,marker='o', markersize=5, label='validation Accuracy')\n",
    "plt.xlabel('the value of K and the size of the training set')\n",
    "plt.ylabel('training time in second')\n",
    "plt.title(\"the training time curve with different compinations of k and training data size\")\n",
    "plt.grid()\n",
    "plt.show()"
   ]
  },
  {
   "cell_type": "markdown",
   "metadata": {
    "id": "qWaqObbNNT8W"
   },
   "source": [
    "# **References**"
   ]
  },
  {
   "cell_type": "markdown",
   "metadata": {
    "id": "H4YKXL-3Nbfv"
   },
   "source": [
    "1. https://docs.python.org/3/library/timeit.html#timeit.Timer.timeit\n",
    "2. https://scikit-learn.org/stable/modules/generated/sklearn.preprocessing.OrdinalEncoder.html\n",
    "3. https://scikit-learn.org/stable/modules/generated/sklearn.preprocessing.LabelEncoder.html\n",
    "4. https://www.kaggle.com/datasets/elikplim/car-evaluation-data-set"
   ]
  }
 ],
 "metadata": {
  "colab": {
   "collapsed_sections": [],
   "name": "Machine Learning Assignmnet2.ipynb",
   "provenance": []
  },
  "kernelspec": {
   "display_name": "Python 3 (ipykernel)",
   "language": "python",
   "name": "python3"
  },
  "language_info": {
   "codemirror_mode": {
    "name": "ipython",
    "version": 3
   },
   "file_extension": ".py",
   "mimetype": "text/x-python",
   "name": "python",
   "nbconvert_exporter": "python",
   "pygments_lexer": "ipython3",
   "version": "3.9.7"
  }
 },
 "nbformat": 4,
 "nbformat_minor": 1
}
